{
 "cells": [
  {
   "cell_type": "code",
   "execution_count": 13,
   "metadata": {},
   "outputs": [
    {
     "name": "stdout",
     "output_type": "stream",
     "text": [
      "The autoreload extension is already loaded. To reload it, use:\n",
      "  %reload_ext autoreload\n"
     ]
    }
   ],
   "source": [
    "%load_ext autoreload\n",
    "%autoreload 2\n",
    "\n",
    "from tweedejaars_project import *\n",
    "import os\n",
    "import pandas as pd\n",
    "import matplotlib.pyplot as plt\n",
    "import numpy as np\n",
    "from sklearn.ensemble import *\n",
    "from sklearn.tree import *\n",
    "from sklearn.metrics import *\n",
    "from sklearn.linear_model import *\n",
    "from sklearn.pipeline import Pipeline\n",
    "from sklearn.preprocessing import RobustScaler, StandardScaler, LabelEncoder\n",
    "import xgboost\n",
    "import lightgbm\n",
    "from sklearn.model_selection import TimeSeriesSplit, GridSearchCV\n",
    "\n",
    "df = load_df()"
   ]
  },
  {
   "cell_type": "code",
   "execution_count": 14,
   "metadata": {},
   "outputs": [],
   "source": [
    "mask = df['naive_strategy_action'] | df['target_two_sided_ptu_alt']\n",
    "\n",
    "df = df[mask].reset_index()"
   ]
  },
  {
   "cell_type": "code",
   "execution_count": 15,
   "metadata": {},
   "outputs": [],
   "source": [
    "def custom_scorer(estimator, X, y):\n",
    "    try:\n",
    "        return f1_score(y, estimator.predict(X))\n",
    "    except Exception as e:\n",
    "        print(f\"Error during scoring: {e}\")\n",
    "        return np.nan\n",
    "\n",
    "def train(features: pd.DataFrame, target: pd.DataFrame, model, params={}, splits=10):\n",
    "    \"\"\"Train a model with grid search\"\"\"\n",
    "    cv = TimeSeriesSplit(n_splits=splits)\n",
    "\n",
    "    model = GridSearchCV(estimator=model, param_grid=params, scoring='f1',\n",
    "                         refit=True, cv=cv.split(features), n_jobs=-1, verbose=1)\n",
    "    model.fit(features, target)\n",
    "    best_model = model.best_estimator_\n",
    "    print(model.best_params_)\n",
    "    train_predictions = best_model.predict(features)\n",
    "\n",
    "    return np.array(train_predictions), best_model"
   ]
  },
  {
   "cell_type": "code",
   "execution_count": 26,
   "metadata": {},
   "outputs": [],
   "source": [
    "features = [\n",
    "    \"import_capacity\",\n",
    "    \"min_price_published\",\n",
    "    \"mid_price_published\",\n",
    "    \"max_price_published\",\n",
    "    \"upward_dispatch_published\",\n",
    "    \"downward_dispatch_published\",\n",
    "    'min_ptu_price_known',\n",
    "    \"max_ptu_price_known\",\n",
    "    \"settlement_price_bestguess\",\n",
    "    'naive_strategy_action',\n",
    "    'PTU',\n",
    "    'forecast_wind',\n",
    "    'forecast_solar',\n",
    "    'forecast_demand',\n",
    "    'target_two_sided_ptu_realtime',\n",
    "]\n",
    "\n",
    "splits = get_splits(df, features=features, return_dict_pair=False)\n",
    "\n",
    "train_x = splits['train'][0]\n",
    "train_y = splits['train'][1]\n",
    "\n",
    "valid_x = splits['valid'][0]\n",
    "valid_y = splits['valid'][1]\n",
    "valid_ids = splits['valid'][2]\n",
    "valid_df = splits['valid'][3]\n",
    "\n",
    "\n",
    "test_x = splits['test'][0]\n",
    "test_y = splits['test'][1]\n",
    "ids = splits['test'][2]\n",
    "\n",
    "# train_x = df[features][:165195]\n",
    "# train_y = df['target_two_sided_ptu'][:165195]\n",
    "\n",
    "# test_x = df[features][165195:]\n",
    "# test_y = df['target_two_sided_ptu'][165195:]\n",
    "# ids = df['ptu_id'][165195:]\n",
    "\n"
   ]
  },
  {
   "cell_type": "code",
   "execution_count": 30,
   "metadata": {},
   "outputs": [
    {
     "name": "stdout",
     "output_type": "stream",
     "text": [
      "Fitting 5 folds for each of 1 candidates, totalling 5 fits\n",
      "{}\n"
     ]
    }
   ],
   "source": [
    "# Initialize the Decision Tree Classifier\n",
    "# clf = HistGradientBoostingClassifier()\n",
    "\n",
    "# # Train the classifier\n",
    "# clf.fit(train_x, train_y)\n",
    "\n",
    "# y_pred = clf.predict(test_x)\n",
    "\n",
    "pipe = Pipeline([\n",
    "    ('scaler', RobustScaler()),\n",
    "    ('svr', HistGradientBoostingClassifier())\n",
    "])\n",
    "\n",
    "\n",
    "\n",
    "_, model = train(train_x, train_y, pipe, {}, 5)\n",
    "# pipe.fit(train_x, train_y)\n",
    "# save_model(pipe, 'xgboost', 'subsample')\n",
    "y_pred = model.predict()"
   ]
  }
 ],
 "metadata": {
  "kernelspec": {
   "display_name": "tweedejaars_project",
   "language": "python",
   "name": "python3"
  },
  "language_info": {
   "codemirror_mode": {
    "name": "ipython",
    "version": 3
   },
   "file_extension": ".py",
   "mimetype": "text/x-python",
   "name": "python",
   "nbconvert_exporter": "python",
   "pygments_lexer": "ipython3",
   "version": "3.12.3"
  }
 },
 "nbformat": 4,
 "nbformat_minor": 2
}
