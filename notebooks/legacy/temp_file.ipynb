{
 "cells": [
  {
   "cell_type": "code",
   "execution_count": 1,
   "metadata": {},
   "outputs": [
    {
     "name": "stderr",
     "output_type": "stream",
     "text": [
      "\u001b[32m2024-06-13 11:14:52.203\u001b[0m | \u001b[1mINFO    \u001b[0m | \u001b[36mtweedejaars_project.config\u001b[0m:\u001b[36m<module>\u001b[0m:\u001b[36m12\u001b[0m - \u001b[1mPROJ_ROOT path is: /home/nub/tweedejaars_project\u001b[0m\n"
     ]
    },
    {
     "ename": "SyntaxError",
     "evalue": "invalid syntax (plot_metrics.py, line 46)",
     "output_type": "error",
     "traceback": [
      "Traceback \u001b[0;36m(most recent call last)\u001b[0m:\n",
      "\u001b[0m  File \u001b[1;32m~/miniconda3/envs/tweedejaars_project/lib/python3.12/site-packages/IPython/core/interactiveshell.py:3577\u001b[0m in \u001b[1;35mrun_code\u001b[0m\n    exec(code_obj, self.user_global_ns, self.user_ns)\u001b[0m\n",
      "\u001b[0m  Cell \u001b[1;32mIn[1], line 4\u001b[0m\n    from tweedejaars_project import load_df\u001b[0m\n",
      "\u001b[0m  File \u001b[1;32m~/tweedejaars_project/tweedejaars_project/__init__.py:2\u001b[0m\n    from .evaluation import show_basic_metrics, show_penalty_score, show_time_diff_score, show_metrics, show_metrics_multi, show_metrics_adjusted\u001b[0m\n",
      "\u001b[0m  File \u001b[1;32m~/tweedejaars_project/tweedejaars_project/evaluation/__init__.py:2\u001b[0m\n    from .metrics import show_basic_metrics, show_penalty_score, show_time_diff_score, show_metrics, show_metrics_multi, show_metrics_adjusted\u001b[0m\n",
      "\u001b[0m  File \u001b[1;32m~/tweedejaars_project/tweedejaars_project/evaluation/metrics.py:6\u001b[0m\n    from tweedejaars_project.visualization import default_titles, make_subplots, \\\u001b[0m\n",
      "\u001b[0;36m  File \u001b[0;32m~/tweedejaars_project/tweedejaars_project/visualization/__init__.py:1\u001b[0;36m\n\u001b[0;31m    from .plot_metrics import make_subplots, show_subplots, plot_df, default_titles\u001b[0;36m\n",
      "\u001b[0;36m  File \u001b[0;32m~/tweedejaars_project/tweedejaars_project/visualization/plot_metrics.py:46\u001b[0;36m\u001b[0m\n\u001b[0;31m    df[]\u001b[0m\n\u001b[0m       ^\u001b[0m\n\u001b[0;31mSyntaxError\u001b[0m\u001b[0;31m:\u001b[0m invalid syntax\n"
     ]
    }
   ],
   "source": [
    "%load_ext autoreload\n",
    "%autoreload 2\n",
    "\n",
    "from tweedejaars_project import load_df\n",
    "from tweedejaars_project import show_real_penalty_score, show_time_diff_score\n",
    "import os\n",
    "import pandas as pd\n",
    "import numpy as np\n",
    "from sklearn.ensemble import *\n",
    "from sklearn.tree import *\n",
    "from sklearn.metrics import *\n",
    "from sklearn.linear_model import *\n",
    "\n",
    "\n",
    "df = load_df()"
   ]
  },
  {
   "cell_type": "code",
   "execution_count": null,
   "metadata": {},
   "outputs": [
    {
     "name": "stdout",
     "output_type": "stream",
     "text": [
      "0.935187371709869\n",
      "Classification Report:\n",
      "              precision    recall  f1-score   support\n",
      "\n",
      "       False       0.94      1.00      0.97     51710\n",
      "        True       0.08      0.01      0.01      3341\n",
      "\n",
      "    accuracy                           0.94     55051\n",
      "   macro avg       0.51      0.50      0.49     55051\n",
      "weighted avg       0.89      0.94      0.91     55051\n",
      "\n",
      "Confusion Matrix:\n",
      "[[51462   248]\n",
      " [ 3320    21]]\n"
     ]
    }
   ],
   "source": [
    "features = [\n",
    "    \"import_capacity\",\n",
    "    \"settlement_price_bestguess\",\n",
    "]\n",
    "\n",
    "train_x = df[features][:165195]\n",
    "train_y = df['target_two_sided_ptu'][:165195]\n",
    "\n",
    "test_x = df[features][165195:]\n",
    "test_y = df['target_two_sided_ptu'][165195:]\n",
    "\n",
    "# Initialize the Decision Tree Classifier\n",
    "clf = HistGradientBoostingClassifier()\n",
    "\n",
    "# Train the classifier\n",
    "clf.fit(train_x, train_y)\n",
    "\n",
    "y_pred = clf.predict(test_x)\n",
    "\n",
    "# Evaluate the model\n",
    "accuracy = accuracy_score(test_y, y_pred)\n",
    "print(accuracy)\n",
    "\n",
    "print(\"Classification Report:\")\n",
    "print(classification_report(test_y, y_pred))\n",
    "\n",
    "# Print the confusion matrix\n",
    "print(\"Confusion Matrix:\")\n",
    "print(confusion_matrix(test_y, y_pred))"
   ]
  },
  {
   "cell_type": "code",
   "execution_count": null,
   "metadata": {},
   "outputs": [
    {
     "name": "stdout",
     "output_type": "stream",
     "text": [
      "False negative score (pred/max): 1.0, 3737/3737\n",
      "False positive score (pred/max): 1.0, 0/21548\n"
     ]
    }
   ],
   "source": [
    "show_real_penalty_score(df, df['target_two_sided_ptu'], df['target_two_sided_ptu_realtime'], df['ptu_id'])"
   ]
  },
  {
   "cell_type": "code",
   "execution_count": null,
   "metadata": {},
   "outputs": [
    {
     "name": "stdout",
     "output_type": "stream",
     "text": [
      "               neg  pos\n",
      "count  1454.000000  2.0\n",
      "mean     -9.472490  0.0\n",
      "std       2.981752  0.0\n",
      "min     -14.000000  0.0\n",
      "25%     -12.000000  0.0\n",
      "50%      -9.000000  0.0\n",
      "75%      -7.000000  0.0\n",
      "max      -3.000000  0.0\n",
      "Time taken (pred/max): -9.459478021978022/-9.460851648351648, using 1456/1456\n"
     ]
    }
   ],
   "source": [
    "show_time_diff_score(df, df['target_two_sided_ptu'], df['ptu_id'])"
   ]
  },
  {
   "cell_type": "code",
   "execution_count": null,
   "metadata": {},
   "outputs": [
    {
     "name": "stdout",
     "output_type": "stream",
     "text": [
      "False negative score (pred/max): 0.4, 2/5\n",
      "False positive score (pred/max): 0.4, 0/0\n",
      "False negative score (pred/max): nan, 0/0\n",
      "False positive score (pred/max): nan, 3/14\n",
      "None\n",
      "None\n"
     ]
    },
    {
     "name": "stderr",
     "output_type": "stream",
     "text": [
      "/home/nub/tweedejaars_project/tweedejaars_project/evaluation/metrics.py:80: RuntimeWarning: invalid value encountered in scalar divide\n",
      "  # TODO fix it?\n",
      "/home/nub/tweedejaars_project/tweedejaars_project/evaluation/metrics.py:81: RuntimeWarning: invalid value encountered in scalar divide\n",
      "  def compute_time_diff_flip(df: pd.DataFrame, pred: pd.Series, ids: pd.Series):\n"
     ]
    }
   ],
   "source": [
    "false_neg_test_df = {\n",
    "    'Time': [\n",
    "        '11:30', '11:31', '11:32', '11:33', '11:34', '11:35', '11:36', \n",
    "        '11:37', '11:38', '11:39', '11:40', '11:41', '11:42', '11:43', \n",
    "        '11:44', '11:45'\n",
    "    ],\n",
    "    'min_price_published': [\n",
    "        -100, np.NaN, 0, -100, -150, \n",
    "        -200, -300, -100, np.NaN, np.NaN, \n",
    "        np.NaN, np.NaN, np.NaN, -30, -100, 0\n",
    "    ],\n",
    "    'max_price_published': [\n",
    "        np.NaN, 20, np.NaN, np.NaN, np.NaN, np.NaN, np.NaN, np.NaN, \n",
    "        40, 50, 90, 200, 80, \n",
    "        np.NaN, np.NaN, np.NaN\n",
    "    ],\n",
    "    'settlement_price_bestguess': [\n",
    "        np.NaN, np.NaN, 0, -100, -150, -200, -300, -300, \n",
    "        40, 50, 90, 200, 200, \n",
    "        200, 200, 200\n",
    "    ],\n",
    "    'target_two_sided_ptu': [\n",
    "        False, False, True, True, True, True, True, True, True, True,\n",
    "        True, True, True, True, True, True\n",
    "    ],\n",
    "    'pred': [\n",
    "        True, False, False, True, True, False, False, True, False, False,\n",
    "        False, False, False, False, False, False\n",
    "    ],\n",
    "    'naive_strategy_action': [\n",
    "        False, False, False, True, True, True, True, True, False, False,\n",
    "        False, False, False, False, False, False,\n",
    "    ],\n",
    "    'ptu_id':\n",
    "    [0,0,0,0,0,0,0,0,0,0,0,0,0,0,0,0]\n",
    "}\n",
    "\n",
    "false_pos_test_df = {\n",
    "    'Time': [\n",
    "        '11:30', '11:31', '11:32', '11:33', '11:34', '11:35', '11:36', \n",
    "        '11:37', '11:38', '11:39', '11:40', '11:41', '11:42', '11:43', \n",
    "        '11:44', '11:45'\n",
    "    ],\n",
    "    'min_price_published': [\n",
    "        -100, -100, 0, -100, -150, \n",
    "        -200, -300, -100, -100, -100, \n",
    "        -100, -100, -100, -30, -100, 0\n",
    "    ],\n",
    "    'max_price_published': [\n",
    "        np.NaN, np.NaN, np.NaN, np.NaN, np.NaN, np.NaN, np.NaN, np.NaN, \n",
    "        np.NaN, np.NaN, np.NaN, np.NaN, np.NaN, \n",
    "        np.NaN, np.NaN, np.NaN\n",
    "    ],\n",
    "    'settlement_price_bestguess': [\n",
    "        np.NaN, np.NaN, 0, -100, -150, -200, -300, -300, \n",
    "        -300, -300, -300, -300, -300, \n",
    "        -300, -300, -300\n",
    "    ],\n",
    "    'target_two_sided_ptu': [\n",
    "        False, False, False, False, False, False, False, False, False, False,\n",
    "        False, False, False, False, False, False\n",
    "    ],\n",
    "    'pred': [\n",
    "        True, False, False, True, True, False, False, True, False, False,\n",
    "        False, False, False, False, False, False\n",
    "    ],\n",
    "    'naive_strategy_action': [\n",
    "        False, False, True, True, True, True, True, True, True, True,\n",
    "        True, True, True, True, True, True,\n",
    "    ],\n",
    "    'ptu_id':\n",
    "    [0,0,0,0,0,0,0,0,0,0,0,0,0,0,0,0]\n",
    "}\n",
    "\n",
    "false_neg_test_df = pd.DataFrame(false_neg_test_df)\n",
    "false_pos_test_df = pd.DataFrame(false_pos_test_df)\n",
    "\n",
    "false_neg = show_real_penalty_score(false_neg_test_df, false_neg_test_df['target_two_sided_ptu'], false_neg_test_df['pred'], false_neg_test_df['ptu_id'])\n",
    "false_pos = show_real_penalty_score(false_pos_test_df, false_pos_test_df['target_two_sided_ptu'], false_pos_test_df['pred'], false_pos_test_df['ptu_id'])\n",
    "print(false_neg)\n",
    "print(false_pos)"
   ]
  }
 ],
 "metadata": {
  "kernelspec": {
   "display_name": "tweedejaars_project",
   "language": "python",
   "name": "python3"
  },
  "language_info": {
   "codemirror_mode": {
    "name": "ipython",
    "version": 3
   },
   "file_extension": ".py",
   "mimetype": "text/x-python",
   "name": "python",
   "nbconvert_exporter": "python",
   "pygments_lexer": "ipython3",
   "version": "3.1.-1"
  }
 },
 "nbformat": 4,
 "nbformat_minor": 2
}
