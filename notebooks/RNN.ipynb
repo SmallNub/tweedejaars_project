{
 "cells": [
  {
   "cell_type": "markdown",
   "metadata": {},
   "source": [
    "adapted from: https://www.kaggle.com/code/kanncaa1/recurrent-neural-network-with-pytorch"
   ]
  },
  {
   "cell_type": "code",
   "execution_count": 3,
   "metadata": {},
   "outputs": [
    {
     "name": "stderr",
     "output_type": "stream",
     "text": [
      "\u001b[32m2024-06-10 15:19:34.371\u001b[0m | \u001b[1mINFO    \u001b[0m | \u001b[36mtweedejaars_project.config\u001b[0m:\u001b[36m<module>\u001b[0m:\u001b[36m11\u001b[0m - \u001b[1mPROJ_ROOT path is: /home/tycho/tweedejaars_project\u001b[0m\n"
     ]
    }
   ],
   "source": [
    "# Import Libraries\n",
    "import torch\n",
    "import torch.nn as nn\n",
    "from torch.autograd import Variable\n",
    "from sklearn.model_selection import train_test_split\n",
    "from torch.utils.data import DataLoader, TensorDataset\n",
    "from tweedejaars_project import load_df"
   ]
  },
  {
   "cell_type": "code",
   "execution_count": 12,
   "metadata": {},
   "outputs": [
    {
     "name": "stdout",
     "output_type": "stream",
     "text": [
      "Index(['naive_strategy_action', 'min_ptu_price_known', 'min_price_published',\n",
      "       'forecast_wind', 'time_since_last_two_sided', 'two_sided_daily_count',\n",
      "       'mid_price_published', 'vwap_avg', 'vwap_std', 'vwap_qty_sum',\n",
      "       'minute_in_ptu', 'downward_dispatch_published',\n",
      "       'settlement_price_bestguess', 'import_capacity',\n",
      "       'upward_dispatch_published', 'settlement_price_realized',\n",
      "       'forecast_solar'],\n",
      "      dtype='object')\n"
     ]
    },
    {
     "ename": "TypeError",
     "evalue": "can't convert np.ndarray of type numpy.object_. The only supported types are: float64, float32, float16, complex64, complex128, int64, int32, int16, int8, uint8, and bool.",
     "output_type": "error",
     "traceback": [
      "\u001b[0;31m---------------------------------------------------------------------------\u001b[0m",
      "\u001b[0;31mTypeError\u001b[0m                                 Traceback (most recent call last)",
      "Cell \u001b[0;32mIn[12], line 27\u001b[0m\n\u001b[1;32m     25\u001b[0m \u001b[38;5;66;03m# create feature and targets tensor for train and test set.\u001b[39;00m\n\u001b[1;32m     26\u001b[0m \u001b[38;5;28mprint\u001b[39m(X_train\u001b[38;5;241m.\u001b[39mcolumns)\n\u001b[0;32m---> 27\u001b[0m featuresTrain \u001b[38;5;241m=\u001b[39m \u001b[43mtorch\u001b[49m\u001b[38;5;241;43m.\u001b[39;49m\u001b[43mtensor\u001b[49m\u001b[43m(\u001b[49m\u001b[43mX_train\u001b[49m\u001b[38;5;241;43m.\u001b[39;49m\u001b[43mvalues\u001b[49m\u001b[43m)\u001b[49m\n\u001b[1;32m     28\u001b[0m targetsTrain \u001b[38;5;241m=\u001b[39m torch\u001b[38;5;241m.\u001b[39mtensor(y_train\u001b[38;5;241m.\u001b[39mvalues)\u001b[38;5;241m.\u001b[39mtype(torch\u001b[38;5;241m.\u001b[39mLongTensor)\n\u001b[1;32m     30\u001b[0m featuresTest \u001b[38;5;241m=\u001b[39m torch\u001b[38;5;241m.\u001b[39mtensor(X_test\u001b[38;5;241m.\u001b[39mvalues)\n",
      "\u001b[0;31mTypeError\u001b[0m: can't convert np.ndarray of type numpy.object_. The only supported types are: float64, float32, float16, complex64, complex128, int64, int32, int16, int8, uint8, and bool."
     ]
    }
   ],
   "source": [
    "\"\"\" Prepare Dataset \"\"\"\n",
    "\n",
    "# load data\n",
    "df = load_df()\n",
    "highly_correlated_features = ['naive_strategy_action', 'min_ptu_price_known',\n",
    "                              'min_price_published', 'forecast_wind',\n",
    "                              'time_since_last_two_sided', \n",
    "                              'two_sided_daily_count', 'mid_price_published',\n",
    "                              'vwap_avg', 'vwap_std', 'vwap_qty_sum',\n",
    "                              'minute_in_ptu', 'downward_dispatch_published',\n",
    "                              'settlement_price_bestguess', 'import_capacity',\n",
    "                              'upward_dispatch_published',\n",
    "                              'settlement_price_realized', 'forecast_solar']\n",
    "\n",
    "# split data into features and target\n",
    "targets_numpy = df['target_two_sided_ptu']\n",
    "features_numpy = df[highly_correlated_features]\n",
    "\n",
    "# train test split. Size of train data is 70% and size of test data is 30%. \n",
    "X_train, X_test, y_train, y_test = train_test_split(features_numpy,\n",
    "                                                    targets_numpy,\n",
    "                                                    test_size = 0.3,\n",
    "                                                    random_state = 42) \n",
    "\n",
    "# create feature and targets tensor for train and test set.\n",
    "print(X_train.columns)\n",
    "featuresTrain = torch.tensor(X_train.values)\n",
    "targetsTrain = torch.tensor(y_train.values).type(torch.LongTensor)\n",
    "\n",
    "featuresTest = torch.tensor(X_test.values)\n",
    "targetsTest = torch.tensor(y_test.values).type(torch.LongTensor)\n",
    "\n",
    "# batch_size, epoch and iteration\n",
    "batch_size = 100\n",
    "n_iters = 10000\n",
    "num_epochs = n_iters / (len(X_train) / batch_size)\n",
    "num_epochs = int(num_epochs)\n",
    "\n",
    "# Pytorch train and test sets\n",
    "train = TensorDataset(featuresTrain,targetsTrain)\n",
    "test = TensorDataset(featuresTest,targetsTest)\n",
    "\n",
    "# data loader\n",
    "train_loader = DataLoader(train, batch_size = batch_size, shuffle = False)\n",
    "test_loader = DataLoader(test, batch_size = batch_size, shuffle = False)"
   ]
  }
 ],
 "metadata": {
  "kernelspec": {
   "display_name": "tweedejaars_project",
   "language": "python",
   "name": "python3"
  },
  "language_info": {
   "codemirror_mode": {
    "name": "ipython",
    "version": 3
   },
   "file_extension": ".py",
   "mimetype": "text/x-python",
   "name": "python",
   "nbconvert_exporter": "python",
   "pygments_lexer": "ipython3",
   "version": "3.12.3"
  }
 },
 "nbformat": 4,
 "nbformat_minor": 2
}
