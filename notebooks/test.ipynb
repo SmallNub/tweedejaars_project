{
 "cells": [
  {
   "cell_type": "code",
   "execution_count": 9,
   "metadata": {},
   "outputs": [
    {
     "name": "stdout",
     "output_type": "stream",
     "text": [
      "The autoreload extension is already loaded. To reload it, use:\n",
      "  %reload_ext autoreload\n"
     ]
    }
   ],
   "source": [
    "%load_ext autoreload\n",
    "%autoreload 2\n",
    "\n",
    "from tweedejaars_project import load_df, get_splits\n",
    "import pandas as pd\n",
    "from sklearn.ensemble import *\n",
    "from sklearn.metrics import *\n",
    "\n",
    "df = load_df()"
   ]
  },
  {
   "cell_type": "code",
   "execution_count": 10,
   "metadata": {},
   "outputs": [],
   "source": [
    "# splits = get_splits(df, ['PTU', 'import_capacity'])\n",
    "# m = ExtraTreesClassifier()\n",
    "# m.fit(*splits['train'])\n",
    "# p = m.predict(splits['valid'][0])\n",
    "# ConfusionMatrixDisplay.from_predictions(splits['valid'][1], p)\n"
   ]
  },
  {
   "cell_type": "code",
   "execution_count": 11,
   "metadata": {},
   "outputs": [
    {
     "name": "stdout",
     "output_type": "stream",
     "text": [
      "False\n"
     ]
    }
   ],
   "source": [
    "df['fake_ptu'] = (df['ptu_id'] + 4) % 96 + 1\n",
    "df['check'] = df['PTU'] == df['fake_ptu'] \n",
    "print(df['check'].all())\n",
    "temp = df[133900:] # 133979 zomertijd jumpt van 8 naar 13"
   ]
  },
  {
   "cell_type": "code",
   "execution_count": 12,
   "metadata": {},
   "outputs": [
    {
     "data": {
      "text/plain": [
       "True"
      ]
     },
     "execution_count": 12,
     "metadata": {},
     "output_type": "execute_result"
    }
   ],
   "source": [
    "# Calculate the time difference between consecutive rows\n",
    "df['time_diff'] = df['datetime'].diff()\n",
    "\n",
    "# Check if all time differences are equal to one minute\n",
    "is_every_minute = (df['time_diff'] == pd.Timedelta(minutes=1))[1:].all()\n",
    "is_every_minute"
   ]
  }
 ],
 "metadata": {
  "kernelspec": {
   "display_name": "tweedejaars_project",
   "language": "python",
   "name": "python3"
  },
  "language_info": {
   "codemirror_mode": {
    "name": "ipython",
    "version": 3
   },
   "file_extension": ".py",
   "mimetype": "text/x-python",
   "name": "python",
   "nbconvert_exporter": "python",
   "pygments_lexer": "ipython3",
   "version": "3.12.3"
  }
 },
 "nbformat": 4,
 "nbformat_minor": 2
}
