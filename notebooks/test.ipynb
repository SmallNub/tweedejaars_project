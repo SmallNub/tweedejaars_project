{
 "cells": [
  {
   "cell_type": "code",
   "execution_count": 25,
   "metadata": {},
   "outputs": [
    {
     "name": "stdout",
     "output_type": "stream",
     "text": [
      "The autoreload extension is already loaded. To reload it, use:\n",
      "  %reload_ext autoreload\n"
     ]
    }
   ],
   "source": [
    "%load_ext autoreload\n",
    "%autoreload 2\n",
    "\n",
    "from tweedejaars_project import load_df, get_splits\n",
    "import pandas as pd\n",
    "\n",
    "df = load_df()"
   ]
  },
  {
   "cell_type": "code",
   "execution_count": 26,
   "metadata": {},
   "outputs": [
    {
     "data": {
      "text/plain": [
       "{'train': [        PTU  import_capacity\n",
       "  0         5             65.4\n",
       "  1         5             65.4\n",
       "  2         5             65.4\n",
       "  3         5             65.4\n",
       "  4         5             65.4\n",
       "  ...     ...              ...\n",
       "  123835    4           1247.7\n",
       "  123836    4           1247.7\n",
       "  123837    4           1247.7\n",
       "  123838    4           1247.7\n",
       "  123839    4           1247.7\n",
       "  \n",
       "  [123840 rows x 2 columns],\n",
       "  0         False\n",
       "  1         False\n",
       "  2          True\n",
       "  3          True\n",
       "  4          True\n",
       "            ...  \n",
       "  123835     True\n",
       "  123836     True\n",
       "  123837     True\n",
       "  123838     True\n",
       "  123839     True\n",
       "  Name: target_two_sided_ptu, Length: 123840, dtype: bool],\n",
       " 'valid': [       PTU  import_capacity\n",
       "  0        5           2051.4\n",
       "  1        5           2051.4\n",
       "  2        5           2051.4\n",
       "  3        5           2051.4\n",
       "  4        5           2051.4\n",
       "  ...    ...              ...\n",
       "  41755    8           3413.2\n",
       "  41756    8           3413.2\n",
       "  41757    8           3413.2\n",
       "  41758    8           3413.2\n",
       "  41759    8           3413.2\n",
       "  \n",
       "  [41760 rows x 2 columns],\n",
       "  0        False\n",
       "  1        False\n",
       "  2        False\n",
       "  3        False\n",
       "  4        False\n",
       "           ...  \n",
       "  41755    False\n",
       "  41756    False\n",
       "  41757    False\n",
       "  41758    False\n",
       "  41759    False\n",
       "  Name: target_two_sided_ptu, Length: 41760, dtype: bool],\n",
       " 'test': [       PTU  import_capacity\n",
       "  0        9           3150.2\n",
       "  1        9           3150.2\n",
       "  2        9           3150.2\n",
       "  3        9           3150.2\n",
       "  4        9           3150.2\n",
       "  ...    ...              ...\n",
       "  54641    3           1982.6\n",
       "  54642    3           1982.6\n",
       "  54643    3           1982.6\n",
       "  54644    3           1982.6\n",
       "  54645    4           1982.6\n",
       "  \n",
       "  [54646 rows x 2 columns],\n",
       "  0        False\n",
       "  1        False\n",
       "  2        False\n",
       "  3        False\n",
       "  4        False\n",
       "           ...  \n",
       "  54641    False\n",
       "  54642    False\n",
       "  54643    False\n",
       "  54644    False\n",
       "  54645    False\n",
       "  Name: target_two_sided_ptu, Length: 54646, dtype: bool]}"
      ]
     },
     "execution_count": 26,
     "metadata": {},
     "output_type": "execute_result"
    }
   ],
   "source": [
    "get_splits(df, ['PTU', 'import_capacity'])"
   ]
  },
  {
   "cell_type": "code",
   "execution_count": 19,
   "metadata": {},
   "outputs": [
    {
     "name": "stdout",
     "output_type": "stream",
     "text": [
      "False\n"
     ]
    }
   ],
   "source": [
    "df['fake_ptu'] = (df['ptu_id'] + 4) % 96 + 1\n",
    "df['check'] = df['PTU'] == df['fake_ptu'] \n",
    "print(df['check'].all())\n",
    "temp = df[133900:] # 133979 zomertijd jumpt van 8 naar 13"
   ]
  },
  {
   "cell_type": "code",
   "execution_count": 20,
   "metadata": {},
   "outputs": [
    {
     "data": {
      "text/plain": [
       "True"
      ]
     },
     "execution_count": 20,
     "metadata": {},
     "output_type": "execute_result"
    }
   ],
   "source": [
    "# Calculate the time difference between consecutive rows\n",
    "df['time_diff'] = df['datetime'].diff()\n",
    "\n",
    "# Check if all time differences are equal to one minute\n",
    "is_every_minute = (df['time_diff'] == pd.Timedelta(minutes=1))[1:].all()\n",
    "is_every_minute"
   ]
  }
 ],
 "metadata": {
  "kernelspec": {
   "display_name": "tweedejaars_project",
   "language": "python",
   "name": "python3"
  },
  "language_info": {
   "codemirror_mode": {
    "name": "ipython",
    "version": 3
   },
   "file_extension": ".py",
   "mimetype": "text/x-python",
   "name": "python",
   "nbconvert_exporter": "python",
   "pygments_lexer": "ipython3",
   "version": "3.12.3"
  }
 },
 "nbformat": 4,
 "nbformat_minor": 2
}
