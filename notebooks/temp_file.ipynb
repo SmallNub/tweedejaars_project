{
 "cells": [
  {
   "cell_type": "code",
   "execution_count": 5,
   "metadata": {},
   "outputs": [
    {
     "name": "stdout",
     "output_type": "stream",
     "text": [
      "The autoreload extension is already loaded. To reload it, use:\n",
      "  %reload_ext autoreload\n"
     ]
    }
   ],
   "source": [
    "%load_ext autoreload\n",
    "%autoreload 2\n",
    "\n",
    "from tweedejaars_project import load_df\n",
    "from tweedejaars_project.visualization.metrics import show_real_penalty_score\n",
    "import os\n",
    "import pandas as pd\n",
    "import numpy as np\n",
    "from sklearn.ensemble import *\n",
    "from sklearn.tree import *\n",
    "from sklearn.metrics import *\n",
    "from sklearn.linear_model import *\n",
    "\n",
    "\n",
    "df = load_df()"
   ]
  },
  {
   "cell_type": "code",
   "execution_count": 6,
   "metadata": {},
   "outputs": [
    {
     "name": "stdout",
     "output_type": "stream",
     "text": [
      "0.9756589344426078\n",
      "Classification Report:\n",
      "              precision    recall  f1-score   support\n",
      "\n",
      "       False       0.98      0.99      0.99     54028\n",
      "        True       0.11      0.04      0.06      1023\n",
      "\n",
      "    accuracy                           0.98     55051\n",
      "   macro avg       0.55      0.52      0.53     55051\n",
      "weighted avg       0.97      0.98      0.97     55051\n",
      "\n",
      "Confusion Matrix:\n",
      "[[53666   362]\n",
      " [  978    45]]\n"
     ]
    }
   ],
   "source": [
    "features = [\n",
    "    \"import_capacity\",\n",
    "    \"settlement_price_bestguess\",\n",
    "]\n",
    "\n",
    "train_x = df[features][:165195]\n",
    "train_y = df['target_two_sided_ptu'][:165195]\n",
    "\n",
    "test_x = df[features][165195:]\n",
    "test_y = df['target_two_sided_ptu'][165195:]\n",
    "\n",
    "# Initialize the Decision Tree Classifier\n",
    "clf = HistGradientBoostingClassifier()\n",
    "\n",
    "# Train the classifier\n",
    "clf.fit(train_x, train_y)\n",
    "\n",
    "y_pred = clf.predict(test_x)\n",
    "\n",
    "# Evaluate the model\n",
    "accuracy = accuracy_score(test_y, y_pred)\n",
    "print(accuracy)\n",
    "\n",
    "print(\"Classification Report:\")\n",
    "print(classification_report(test_y, y_pred))\n",
    "\n",
    "# Print the confusion matrix\n",
    "print(\"Confusion Matrix:\")\n",
    "print(confusion_matrix(test_y, y_pred))"
   ]
  },
  {
   "cell_type": "code",
   "execution_count": 7,
   "metadata": {},
   "outputs": [
    {
     "data": {
      "text/plain": [
       "(0, 0)"
      ]
     },
     "execution_count": 7,
     "metadata": {},
     "output_type": "execute_result"
    }
   ],
   "source": [
    "show_real_penalty_score(df, df['target_two_sided_ptu'], df['target_two_sided_ptu'], df['ptu_id'])"
   ]
  },
  {
   "cell_type": "code",
   "execution_count": 8,
   "metadata": {},
   "outputs": [
    {
     "name": "stdout",
     "output_type": "stream",
     "text": [
      "(-666.6666666666667, 0.0)\n",
      "(0.0, -1500.0)\n"
     ]
    }
   ],
   "source": [
    "false_neg_test_df = {\n",
    "    'Time': [\n",
    "        '11:30', '11:31', '11:32', '11:33', '11:34', '11:35', '11:36', \n",
    "        '11:37', '11:38', '11:39', '11:40', '11:41', '11:42', '11:43', \n",
    "        '11:44', '11:45'\n",
    "    ],\n",
    "    'min_price_published': [\n",
    "        -100, np.NaN, 0, -100, -150, \n",
    "        -200, -300, -100, np.NaN, np.NaN, \n",
    "        np.NaN, np.NaN, np.NaN, -30, -100, 0\n",
    "    ],\n",
    "    'max_price_published': [\n",
    "        np.NaN, 20, np.NaN, np.NaN, np.NaN, np.NaN, np.NaN, np.NaN, \n",
    "        40, 50, 90, 200, 80, \n",
    "        np.NaN, np.NaN, np.NaN\n",
    "    ],\n",
    "    'settlement_price_bestguess': [\n",
    "        np.NaN, np.NaN, 0, -100, -150, -200, -300, -300, \n",
    "        40, 50, 90, 200, 200, \n",
    "        200, 200, 200\n",
    "    ],\n",
    "    'target_two_sided_ptu': [\n",
    "        False, False, True, True, True, True, True, True, True, True,\n",
    "        True, True, True, True, True, True\n",
    "    ],\n",
    "    'pred': [\n",
    "        True, False, False, True, True, False, False, True, False, False,\n",
    "        False, False, False, False, False, False\n",
    "    ],\n",
    "    'naive_strategy_action': [\n",
    "        False, False, False, True, True, True, True, True, False, False,\n",
    "        False, False, False, False, False, False,\n",
    "    ],\n",
    "    'ptu_id':\n",
    "    [0,0,0,0,0,0,0,0,0,0,0,0,0,0,0,0]\n",
    "}\n",
    "\n",
    "false_pos_test_df = {\n",
    "    'Time': [\n",
    "        '11:30', '11:31', '11:32', '11:33', '11:34', '11:35', '11:36', \n",
    "        '11:37', '11:38', '11:39', '11:40', '11:41', '11:42', '11:43', \n",
    "        '11:44', '11:45'\n",
    "    ],\n",
    "    'min_price_published': [\n",
    "        -100, -100, 0, -100, -150, \n",
    "        -200, -300, -100, -100, -100, \n",
    "        -100, -100, -100, -30, -100, 0\n",
    "    ],\n",
    "    'max_price_published': [\n",
    "        np.NaN, np.NaN, np.NaN, np.NaN, np.NaN, np.NaN, np.NaN, np.NaN, \n",
    "        np.NaN, np.NaN, np.NaN, np.NaN, np.NaN, \n",
    "        np.NaN, np.NaN, np.NaN\n",
    "    ],\n",
    "    'settlement_price_bestguess': [\n",
    "        np.NaN, np.NaN, 0, -100, -150, -200, -300, -300, \n",
    "        -300, -300, -300, -300, -300, \n",
    "        -300, -300, -300\n",
    "    ],\n",
    "    'target_two_sided_ptu': [\n",
    "        False, False, False, False, False, False, False, False, False, False,\n",
    "        False, False, False, False, False, False\n",
    "    ],\n",
    "    'pred': [\n",
    "        True, False, False, True, True, False, False, True, False, False,\n",
    "        False, False, False, False, False, False\n",
    "    ],\n",
    "    'naive_strategy_action': [\n",
    "        False, False, True, True, True, True, True, True, True, True,\n",
    "        True, True, True, True, True, True,\n",
    "    ],\n",
    "    'ptu_id':\n",
    "    [0,0,0,0,0,0,0,0,0,0,0,0,0,0,0,0]\n",
    "}\n",
    "\n",
    "false_neg_test_df = pd.DataFrame(false_neg_test_df)\n",
    "false_pos_test_df = pd.DataFrame(false_pos_test_df)\n",
    "\n",
    "false_neg = show_real_penalty_score(false_neg_test_df, false_neg_test_df['target_two_sided_ptu'], false_neg_test_df['pred'], false_neg_test_df['ptu_id'], True)\n",
    "false_pos = show_real_penalty_score(false_pos_test_df, false_pos_test_df['target_two_sided_ptu'], false_pos_test_df['pred'], false_pos_test_df['ptu_id'], True)\n",
    "print(false_neg)\n",
    "print(false_pos)"
   ]
  }
 ],
 "metadata": {
  "kernelspec": {
   "display_name": "tweedejaars_project",
   "language": "python",
   "name": "python3"
  },
  "language_info": {
   "codemirror_mode": {
    "name": "ipython",
    "version": 3
   },
   "file_extension": ".py",
   "mimetype": "text/x-python",
   "name": "python",
   "nbconvert_exporter": "python",
   "pygments_lexer": "ipython3",
   "version": "3.12.3"
  }
 },
 "nbformat": 4,
 "nbformat_minor": 2
}
