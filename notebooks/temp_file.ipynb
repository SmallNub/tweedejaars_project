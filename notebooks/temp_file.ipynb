{
 "cells": [
  {
   "cell_type": "code",
   "execution_count": 4,
   "metadata": {},
   "outputs": [
    {
     "name": "stdout",
     "output_type": "stream",
     "text": [
      "The autoreload extension is already loaded. To reload it, use:\n",
      "  %reload_ext autoreload\n"
     ]
    }
   ],
   "source": [
    "%load_ext autoreload\n",
    "%autoreload 2\n",
    "\n",
    "from tweedejaars_project import load_df\n",
    "from tweedejaars_project import show_real_penalty_score\n",
    "from tweedejaars_project.evaluation.metrics import compute_time_diff_flip\n",
    "import os\n",
    "import pandas as pd\n",
    "import numpy as np\n",
    "from sklearn.ensemble import *\n",
    "from sklearn.tree import *\n",
    "from sklearn.metrics import *\n",
    "from sklearn.linear_model import *\n",
    "\n",
    "\n",
    "df = load_df()"
   ]
  },
  {
   "cell_type": "code",
   "execution_count": 5,
   "metadata": {},
   "outputs": [
    {
     "name": "stdout",
     "output_type": "stream",
     "text": [
      "0.9378031280085739\n",
      "Classification Report:\n",
      "              precision    recall  f1-score   support\n",
      "\n",
      "       False       0.94      1.00      0.97     51710\n",
      "        True       0.15      0.01      0.01      3341\n",
      "\n",
      "    accuracy                           0.94     55051\n",
      "   macro avg       0.54      0.50      0.49     55051\n",
      "weighted avg       0.89      0.94      0.91     55051\n",
      "\n",
      "Confusion Matrix:\n",
      "[[51610   100]\n",
      " [ 3324    17]]\n"
     ]
    }
   ],
   "source": [
    "features = [\n",
    "    \"import_capacity\",\n",
    "    \"settlement_price_bestguess\",\n",
    "]\n",
    "\n",
    "train_x = df[features][:165195]\n",
    "train_y = df['target_two_sided_ptu'][:165195]\n",
    "\n",
    "test_x = df[features][165195:]\n",
    "test_y = df['target_two_sided_ptu'][165195:]\n",
    "\n",
    "# Initialize the Decision Tree Classifier\n",
    "clf = HistGradientBoostingClassifier()\n",
    "\n",
    "# Train the classifier\n",
    "clf.fit(train_x, train_y)\n",
    "\n",
    "y_pred = clf.predict(test_x)\n",
    "\n",
    "# Evaluate the model\n",
    "accuracy = accuracy_score(test_y, y_pred)\n",
    "print(accuracy)\n",
    "\n",
    "print(\"Classification Report:\")\n",
    "print(classification_report(test_y, y_pred))\n",
    "\n",
    "# Print the confusion matrix\n",
    "print(\"Confusion Matrix:\")\n",
    "print(confusion_matrix(test_y, y_pred))"
   ]
  },
  {
   "cell_type": "code",
   "execution_count": 6,
   "metadata": {},
   "outputs": [
    {
     "name": "stdout",
     "output_type": "stream",
     "text": [
      "0/3737, 0/21548\n"
     ]
    },
    {
     "data": {
      "text/plain": [
       "(0, 3737, 0, 21548)"
      ]
     },
     "execution_count": 6,
     "metadata": {},
     "output_type": "execute_result"
    }
   ],
   "source": [
    "show_real_penalty_score(df, df['target_two_sided_ptu'], df['target_two_sided_ptu'], df['ptu_id'])"
   ]
  },
  {
   "cell_type": "code",
   "execution_count": 11,
   "metadata": {},
   "outputs": [
    {
     "name": "stdout",
     "output_type": "stream",
     "text": [
      "               neg  pos\n",
      "count  1454.000000  2.0\n",
      "mean     -9.472490  0.0\n",
      "std       2.981752  0.0\n",
      "min     -14.000000  0.0\n",
      "25%     -12.000000  0.0\n",
      "50%      -9.000000  0.0\n",
      "75%      -7.000000  0.0\n",
      "max      -3.000000  0.0\n",
      "-9.459478021978022/-9.460851648351648, 1456/1456\n"
     ]
    },
    {
     "data": {
      "text/plain": [
       "(count    1454.000000\n",
       " mean       -9.472490\n",
       " std         2.981752\n",
       " min       -14.000000\n",
       " 25%       -12.000000\n",
       " 50%        -9.000000\n",
       " 75%        -7.000000\n",
       " max        -3.000000\n",
       " dtype: float64,\n",
       " count    2.0\n",
       " mean     0.0\n",
       " std      0.0\n",
       " min      0.0\n",
       " 25%      0.0\n",
       " 50%      0.0\n",
       " 75%      0.0\n",
       " max      0.0\n",
       " dtype: float64,\n",
       " -9.459478021978022,\n",
       " 1456,\n",
       " -9.460851648351648,\n",
       " 1456)"
      ]
     },
     "execution_count": 11,
     "metadata": {},
     "output_type": "execute_result"
    }
   ],
   "source": [
    "compute_time_diff_flip(df, df['target_two_sided_ptu'], df['ptu_id'])"
   ]
  },
  {
   "cell_type": "code",
   "execution_count": 8,
   "metadata": {},
   "outputs": [
    {
     "name": "stdout",
     "output_type": "stream",
     "text": [
      "2/5, 0/0\n",
      "0/0, 3/14\n",
      "(2, 5, 0, 0)\n",
      "(0, 0, 3, 14)\n"
     ]
    }
   ],
   "source": [
    "false_neg_test_df = {\n",
    "    'Time': [\n",
    "        '11:30', '11:31', '11:32', '11:33', '11:34', '11:35', '11:36', \n",
    "        '11:37', '11:38', '11:39', '11:40', '11:41', '11:42', '11:43', \n",
    "        '11:44', '11:45'\n",
    "    ],\n",
    "    'min_price_published': [\n",
    "        -100, np.NaN, 0, -100, -150, \n",
    "        -200, -300, -100, np.NaN, np.NaN, \n",
    "        np.NaN, np.NaN, np.NaN, -30, -100, 0\n",
    "    ],\n",
    "    'max_price_published': [\n",
    "        np.NaN, 20, np.NaN, np.NaN, np.NaN, np.NaN, np.NaN, np.NaN, \n",
    "        40, 50, 90, 200, 80, \n",
    "        np.NaN, np.NaN, np.NaN\n",
    "    ],\n",
    "    'settlement_price_bestguess': [\n",
    "        np.NaN, np.NaN, 0, -100, -150, -200, -300, -300, \n",
    "        40, 50, 90, 200, 200, \n",
    "        200, 200, 200\n",
    "    ],\n",
    "    'target_two_sided_ptu': [\n",
    "        False, False, True, True, True, True, True, True, True, True,\n",
    "        True, True, True, True, True, True\n",
    "    ],\n",
    "    'pred': [\n",
    "        True, False, False, True, True, False, False, True, False, False,\n",
    "        False, False, False, False, False, False\n",
    "    ],\n",
    "    'naive_strategy_action': [\n",
    "        False, False, False, True, True, True, True, True, False, False,\n",
    "        False, False, False, False, False, False,\n",
    "    ],\n",
    "    'ptu_id':\n",
    "    [0,0,0,0,0,0,0,0,0,0,0,0,0,0,0,0]\n",
    "}\n",
    "\n",
    "false_pos_test_df = {\n",
    "    'Time': [\n",
    "        '11:30', '11:31', '11:32', '11:33', '11:34', '11:35', '11:36', \n",
    "        '11:37', '11:38', '11:39', '11:40', '11:41', '11:42', '11:43', \n",
    "        '11:44', '11:45'\n",
    "    ],\n",
    "    'min_price_published': [\n",
    "        -100, -100, 0, -100, -150, \n",
    "        -200, -300, -100, -100, -100, \n",
    "        -100, -100, -100, -30, -100, 0\n",
    "    ],\n",
    "    'max_price_published': [\n",
    "        np.NaN, np.NaN, np.NaN, np.NaN, np.NaN, np.NaN, np.NaN, np.NaN, \n",
    "        np.NaN, np.NaN, np.NaN, np.NaN, np.NaN, \n",
    "        np.NaN, np.NaN, np.NaN\n",
    "    ],\n",
    "    'settlement_price_bestguess': [\n",
    "        np.NaN, np.NaN, 0, -100, -150, -200, -300, -300, \n",
    "        -300, -300, -300, -300, -300, \n",
    "        -300, -300, -300\n",
    "    ],\n",
    "    'target_two_sided_ptu': [\n",
    "        False, False, False, False, False, False, False, False, False, False,\n",
    "        False, False, False, False, False, False\n",
    "    ],\n",
    "    'pred': [\n",
    "        True, False, False, True, True, False, False, True, False, False,\n",
    "        False, False, False, False, False, False\n",
    "    ],\n",
    "    'naive_strategy_action': [\n",
    "        False, False, True, True, True, True, True, True, True, True,\n",
    "        True, True, True, True, True, True,\n",
    "    ],\n",
    "    'ptu_id':\n",
    "    [0,0,0,0,0,0,0,0,0,0,0,0,0,0,0,0]\n",
    "}\n",
    "\n",
    "false_neg_test_df = pd.DataFrame(false_neg_test_df)\n",
    "false_pos_test_df = pd.DataFrame(false_pos_test_df)\n",
    "\n",
    "false_neg = show_real_penalty_score(false_neg_test_df, false_neg_test_df['target_two_sided_ptu'], false_neg_test_df['pred'], false_neg_test_df['ptu_id'])\n",
    "false_pos = show_real_penalty_score(false_pos_test_df, false_pos_test_df['target_two_sided_ptu'], false_pos_test_df['pred'], false_pos_test_df['ptu_id'])\n",
    "print(false_neg)\n",
    "print(false_pos)"
   ]
  }
 ],
 "metadata": {
  "kernelspec": {
   "display_name": "tweedejaars_project",
   "language": "python",
   "name": "python3"
  },
  "language_info": {
   "codemirror_mode": {
    "name": "ipython",
    "version": 3
   },
   "file_extension": ".py",
   "mimetype": "text/x-python",
   "name": "python",
   "nbconvert_exporter": "python",
   "pygments_lexer": "ipython3",
   "version": "3.12.3"
  }
 },
 "nbformat": 4,
 "nbformat_minor": 2
}
