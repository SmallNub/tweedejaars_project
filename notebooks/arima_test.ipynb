{
 "cells": [
  {
   "cell_type": "code",
   "execution_count": 1,
   "metadata": {},
   "outputs": [
    {
     "ename": "ModuleNotFoundError",
     "evalue": "No module named 'statsmodels'",
     "output_type": "error",
     "traceback": [
      "\u001b[0;31m---------------------------------------------------------------------------\u001b[0m",
      "\u001b[0;31mModuleNotFoundError\u001b[0m                       Traceback (most recent call last)",
      "Cell \u001b[0;32mIn[1], line 5\u001b[0m\n\u001b[1;32m      3\u001b[0m \u001b[38;5;28;01mimport\u001b[39;00m \u001b[38;5;21;01mmatplotlib\u001b[39;00m\u001b[38;5;21;01m.\u001b[39;00m\u001b[38;5;21;01mpyplot\u001b[39;00m \u001b[38;5;28;01mas\u001b[39;00m \u001b[38;5;21;01mplt\u001b[39;00m\n\u001b[1;32m      4\u001b[0m \u001b[38;5;28;01mimport\u001b[39;00m \u001b[38;5;21;01mseaborn\u001b[39;00m \u001b[38;5;28;01mas\u001b[39;00m \u001b[38;5;21;01msns\u001b[39;00m\n\u001b[0;32m----> 5\u001b[0m \u001b[38;5;28;01mfrom\u001b[39;00m \u001b[38;5;21;01mstatsmodels\u001b[39;00m\u001b[38;5;21;01m.\u001b[39;00m\u001b[38;5;21;01mtsa\u001b[39;00m\u001b[38;5;21;01m.\u001b[39;00m\u001b[38;5;21;01mstattools\u001b[39;00m \u001b[38;5;28;01mimport\u001b[39;00m adfuller\n\u001b[1;32m      6\u001b[0m \u001b[38;5;28;01mfrom\u001b[39;00m \u001b[38;5;21;01mstatsmodels\u001b[39;00m\u001b[38;5;21;01m.\u001b[39;00m\u001b[38;5;21;01mgraphics\u001b[39;00m\u001b[38;5;21;01m.\u001b[39;00m\u001b[38;5;21;01mtsaplots\u001b[39;00m \u001b[38;5;28;01mimport\u001b[39;00m plot_acf, plot_pacf\n\u001b[1;32m      7\u001b[0m \u001b[38;5;28;01mfrom\u001b[39;00m \u001b[38;5;21;01mstatsmodels\u001b[39;00m\u001b[38;5;21;01m.\u001b[39;00m\u001b[38;5;21;01mtsa\u001b[39;00m\u001b[38;5;21;01m.\u001b[39;00m\u001b[38;5;21;01marima\u001b[39;00m\u001b[38;5;21;01m.\u001b[39;00m\u001b[38;5;21;01mmodel\u001b[39;00m \u001b[38;5;28;01mimport\u001b[39;00m ARIMA\n",
      "\u001b[0;31mModuleNotFoundError\u001b[0m: No module named 'statsmodels'"
     ]
    }
   ],
   "source": [
    "import pandas as pd\n",
    "import numpy as np\n",
    "import matplotlib.pyplot as plt\n",
    "import seaborn as sns\n",
    "from statsmodels.tsa.stattools import adfuller\n",
    "from statsmodels.graphics.tsaplots import plot_acf, plot_pacf\n",
    "from statsmodels.tsa.arima.model import ARIMA\n",
    "from sklearn.metrics import mean_squared_error\n",
    "\n",
    "# Step 1: Load the data (Here, we'll generate synthetic data)\n",
    "# Uncomment and modify the following line if you have your own dataset\n",
    "# data = pd.read_csv('your_dataset.csv', parse_dates=['Date'], index_col='Date')\n",
    "\n",
    "# Generate synthetic data\n",
    "np.random.seed(42)\n",
    "date_range = pd.date_range(start='1/1/2020', periods=100, freq='M')\n",
    "data = pd.Series(np.random.randn(100).cumsum(), index=date_range)\n",
    "\n",
    "# Step 2: Visualize the time series\n",
    "plt.figure(figsize=(10, 6))\n",
    "plt.plot(data)\n",
    "plt.title('Time Series Data')\n",
    "plt.xlabel('Date')\n",
    "plt.ylabel('Value')\n",
    "plt.show()\n",
    "\n",
    "# Step 3: Perform stationarity test (ADF Test)\n",
    "result = adfuller(data)\n",
    "print('ADF Statistic:', result[0])\n",
    "print('p-value:', result[1])\n",
    "for key, value in result[4].items():\n",
    "    print(f'Critical Value ({key}): {value}')\n",
    "\n",
    "# Step 4: Differencing the series (if needed) to make it stationary\n",
    "data_diff = data.diff().dropna()\n",
    "result_diff = adfuller(data_diff)\n",
    "print('ADF Statistic after differencing:', result_diff[0])\n",
    "print('p-value after differencing:', result_diff[1])\n",
    "for key, value in result_diff[4].items():\n",
    "    print(f'Critical Value ({key}): {value}')\n",
    "\n",
    "# Step 5: Identify the best parameters (p, d, q) for the ARIMA model using ACF and PACF plots\n",
    "fig, ax = plt.subplots(1, 2, figsize=(16, 6))\n",
    "plot_acf(data_diff, ax=ax[0])\n",
    "plot_pacf(data_diff, ax=ax[1])\n",
    "plt.show()\n",
    "\n",
    "# Step 6: Fit the ARIMA model\n",
    "p, d, q = 1, 1, 1  # These parameters are usually determined from ACF and PACF plots\n",
    "model = ARIMA(data, order=(p, d, q))\n",
    "model_fit = model.fit()\n",
    "print(model_fit.summary())\n",
    "\n",
    "# Step 7: Evaluate the model\n",
    "data_forecast = model_fit.fittedvalues\n",
    "mse = mean_squared_error(data[d:], data_forecast[d:])\n",
    "print('Mean Squared Error:', mse)\n",
    "\n",
    "# Step 8: Forecast future values\n",
    "forecast_steps = 10\n",
    "forecast = model_fit.forecast(steps=forecast_steps)\n",
    "forecast_index = pd.date_range(start=data.index[-1], periods=forecast_steps + 1, freq='M')[1:]\n",
    "forecast_series = pd.Series(forecast, index=forecast_index)\n",
    "\n",
    "plt.figure(figsize=(10, 6))\n",
    "plt.plot(data, label='Original')\n",
    "plt.plot(forecast_series, label='Forecast')\n",
    "plt.title('Forecasted Values')\n",
    "plt.xlabel('Date')\n",
    "plt.ylabel('Value')\n",
    "plt.legend()\n",
    "plt.show()\n"
   ]
  }
 ],
 "metadata": {
  "kernelspec": {
   "display_name": "tweedejaars_project",
   "language": "python",
   "name": "python3"
  },
  "language_info": {
   "codemirror_mode": {
    "name": "ipython",
    "version": 3
   },
   "file_extension": ".py",
   "mimetype": "text/x-python",
   "name": "python",
   "nbconvert_exporter": "python",
   "pygments_lexer": "ipython3",
   "version": "3.12.3"
  }
 },
 "nbformat": 4,
 "nbformat_minor": 2
}
