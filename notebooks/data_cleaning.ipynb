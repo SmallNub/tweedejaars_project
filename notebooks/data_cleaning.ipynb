{
 "cells": [
  {
   "cell_type": "code",
   "execution_count": 1,
   "metadata": {},
   "outputs": [
    {
     "name": "stderr",
     "output_type": "stream",
     "text": [
      "\u001b[32m2024-06-07 12:37:58.912\u001b[0m | \u001b[1mINFO    \u001b[0m | \u001b[36mtweedejaars_project.config\u001b[0m:\u001b[36m<module>\u001b[0m:\u001b[36m11\u001b[0m - \u001b[1mPROJ_ROOT path is: /home/nordin/Desktop/project/tweedejaars_project\u001b[0m\n"
     ]
    }
   ],
   "source": [
    "%load_ext autoreload\n",
    "%autoreload 2\n",
    "\n",
    "from tweedejaars_project import load_df, get_splits\n",
    "import pandas as pd\n",
    "from sklearn.ensemble import *\n",
    "from sklearn.metrics import *\n",
    "\n",
    "df = load_df()"
   ]
  },
  {
   "cell_type": "code",
   "execution_count": 5,
   "metadata": {},
   "outputs": [
    {
     "data": {
      "text/plain": [
       "forecast_solar\n",
       "0.000000       104986\n",
       "239.812927         60\n",
       "1730.439738        60\n",
       "4240.311308        60\n",
       "5922.620217        60\n",
       "                ...  \n",
       "3234.812371        60\n",
       "6221.715809        60\n",
       "7767.159694        60\n",
       "8131.862267        60\n",
       "5066.933370        60\n",
       "Name: count, Length: 1916, dtype: int64"
      ]
     },
     "execution_count": 5,
     "metadata": {},
     "output_type": "execute_result"
    }
   ],
   "source": [
    "df['forecast_solar'].value_counts()"
   ]
  },
  {
   "cell_type": "code",
   "execution_count": 3,
   "metadata": {},
   "outputs": [],
   "source": [
    "df.to_csv('view.csv', sep='\\t', index=False)"
   ]
  },
  {
   "cell_type": "code",
   "execution_count": 30,
   "metadata": {},
   "outputs": [
    {
     "data": {
      "text/plain": [
       "['import_capacity',\n",
       " 'upward_dispatch_published',\n",
       " 'downward_dispatch_published',\n",
       " 'min_price_published',\n",
       " 'mid_price_published',\n",
       " 'max_price_published',\n",
       " 'minute_in_ptu',\n",
       " 'min_ptu_price_known',\n",
       " 'max_ptu_price_known',\n",
       " 'igcc_contribution_down_published',\n",
       " 'igcc_contribution_up_published',\n",
       " 'settlement_price_bestguess',\n",
       " 'time_since_last_two_sided',\n",
       " 'two_sided_daily_count',\n",
       " 'vwap_avg',\n",
       " 'vwap_std',\n",
       " 'vwap_median',\n",
       " 'vwap_qty_sum',\n",
       " 'vwap_max',\n",
       " 'hvq_delta',\n",
       " 'PTU',\n",
       " 'naive_strategy_action',\n",
       " 'forecast_wind',\n",
       " 'forecast_solar',\n",
       " 'forecast_demand',\n",
       " 'ptu_id']"
      ]
     },
     "execution_count": 30,
     "metadata": {},
     "output_type": "execute_result"
    }
   ],
   "source": [
    "not_used_features = ['target_two_sided_ptu', 'settlement_price_realized', 'datetime']\n",
    "features = [i for i in list(df.columns)  if not i in not_used_features or list(df.columns).remove(i)]\n",
    "target = 'target_two_sided_ptu'\n",
    "features"
   ]
  },
  {
   "cell_type": "code",
   "execution_count": 44,
   "metadata": {},
   "outputs": [
    {
     "data": {
      "text/plain": [
       "target_two_sided_ptu\n",
       "False    53623\n",
       "True      1023\n",
       "Name: count, dtype: int64"
      ]
     },
     "execution_count": 44,
     "metadata": {},
     "output_type": "execute_result"
    }
   ],
   "source": [
    "splits = get_splits(df, features, target)\n",
    "\n",
    "\n",
    "splits['test'][1].value_counts()\n"
   ]
  },
  {
   "cell_type": "code",
   "execution_count": null,
   "metadata": {},
   "outputs": [],
   "source": []
  }
 ],
 "metadata": {
  "kernelspec": {
   "display_name": "tweedejaars_project",
   "language": "python",
   "name": "python3"
  },
  "language_info": {
   "codemirror_mode": {
    "name": "ipython",
    "version": 3
   },
   "file_extension": ".py",
   "mimetype": "text/x-python",
   "name": "python",
   "nbconvert_exporter": "python",
   "pygments_lexer": "ipython3",
   "version": "3.12.3"
  }
 },
 "nbformat": 4,
 "nbformat_minor": 2
}
